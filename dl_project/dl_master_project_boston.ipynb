{
  "cells": [
    {
      "cell_type": "markdown",
      "metadata": {
        "id": "view-in-github",
        "colab_type": "text"
      },
      "source": [
        "<a href=\"https://colab.research.google.com/github/CAVASOL/aiffel_node/blob/master/dl_project/dl_master_project_boston.ipynb\" target=\"_parent\"><img src=\"https://colab.research.google.com/assets/colab-badge.svg\" alt=\"Open In Colab\"/></a>"
      ]
    },
    {
      "cell_type": "markdown",
      "id": "a281721a",
      "metadata": {
        "id": "a281721a"
      },
      "source": [
        "## DL Master node 10. Boston Housing"
      ]
    },
    {
      "cell_type": "markdown",
      "id": "d2d79dfc",
      "metadata": {
        "id": "d2d79dfc"
      },
      "source": [
        "**학습 목표**\n",
        "\n",
        "* Boston Housing 데이터셋을 이용해 주택 가격을 예측하는 딥러닝 모델을 실습합나다."
      ]
    },
    {
      "cell_type": "markdown",
      "id": "f7c8b4ab",
      "metadata": {
        "id": "f7c8b4ab"
      },
      "source": [
        "**데이터 로드 및 전처리**"
      ]
    },
    {
      "cell_type": "code",
      "execution_count": null,
      "id": "6e244544",
      "metadata": {
        "id": "6e244544"
      },
      "outputs": [],
      "source": [
        "# 데이터셋은 keras.datasets에서 불러올 수 있는 boston_housing 데이터셋을 활용합니다.\n",
        "\n",
        "from tensorflow.keras import models\n",
        "import matplotlib.pyplot as plt"
      ]
    },
    {
      "cell_type": "code",
      "execution_count": null,
      "id": "d7493216",
      "metadata": {
        "id": "d7493216",
        "outputId": "7d6616b0-0ca4-49e0-c726-1e44ad0829b7"
      },
      "outputs": [
        {
          "name": "stdout",
          "output_type": "stream",
          "text": [
            "404\n",
            "102\n",
            "122\n",
            "122\n",
            "(282, 13)\n"
          ]
        }
      ],
      "source": [
        "# keras.datasets 안에 boston_housing 데이터셋을 로드합니다.\n",
        "from keras.datasets import boston_housing\n",
        "from sklearn.model_selection import train_test_split\n",
        "\n",
        "(train_data, train_labels), (test_data, test_labels) = boston_housing.load_data()\n",
        "x_train, x_val, y_train, y_val = train_test_split(train_data, train_labels,\n",
        "                                                  test_size=0.3,\n",
        "                                                  random_state=123)\n",
        "\n",
        "# 데이터셋의 크기를 확인합니다.\n",
        "print(len(train_data))\n",
        "print(len(test_data))\n",
        "print(len(x_val))\n",
        "print(len(y_val))\n",
        "\n",
        "print(x_train.shape)"
      ]
    },
    {
      "cell_type": "code",
      "execution_count": null,
      "id": "eae9ccd8",
      "metadata": {
        "id": "eae9ccd8",
        "outputId": "38ce725d-6f30-4723-da4a-7460f17fc713"
      },
      "outputs": [
        {
          "data": {
            "text/plain": [
              "array([[1.68118e+01, 0.00000e+00, 1.81000e+01, 0.00000e+00, 7.00000e-01,\n",
              "        5.27700e+00, 9.81000e+01, 1.42610e+00, 2.40000e+01, 6.66000e+02,\n",
              "        2.02000e+01, 3.96900e+02, 3.08100e+01],\n",
              "       [1.43200e-02, 1.00000e+02, 1.32000e+00, 0.00000e+00, 4.11000e-01,\n",
              "        6.81600e+00, 4.05000e+01, 8.32480e+00, 5.00000e+00, 2.56000e+02,\n",
              "        1.51000e+01, 3.92900e+02, 3.95000e+00],\n",
              "       [4.83567e+00, 0.00000e+00, 1.81000e+01, 0.00000e+00, 5.83000e-01,\n",
              "        5.90500e+00, 5.32000e+01, 3.15230e+00, 2.40000e+01, 6.66000e+02,\n",
              "        2.02000e+01, 3.88220e+02, 1.14500e+01],\n",
              "       [1.40300e-01, 2.20000e+01, 5.86000e+00, 0.00000e+00, 4.31000e-01,\n",
              "        6.48700e+00, 1.30000e+01, 7.39670e+00, 7.00000e+00, 3.30000e+02,\n",
              "        1.91000e+01, 3.96280e+02, 5.90000e+00],\n",
              "       [2.83920e-01, 0.00000e+00, 7.38000e+00, 0.00000e+00, 4.93000e-01,\n",
              "        5.70800e+00, 7.43000e+01, 4.72110e+00, 5.00000e+00, 2.87000e+02,\n",
              "        1.96000e+01, 3.91130e+02, 1.17400e+01]])"
            ]
          },
          "execution_count": 3,
          "metadata": {},
          "output_type": "execute_result"
        }
      ],
      "source": [
        "# 문제 1-1: 데이터셋의 전처리를 위해 표준화 작업을 수행합니다.\n",
        "\n",
        "# 입력 데이터의 각 특성의 평균을 뺍니다\n",
        "mean = train_data.mean(axis=0)\n",
        "train_data = train_data - mean\n",
        "\n",
        "# 평균을 뺀 입력 데이터에서 표준편차를 나눕니다.\n",
        "# 데이터 특성의 중앙이 0에 가깝에 만들고, 표준편차가 1이 되도록 만듭니다\n",
        "std = train_data.std(axis=0)\n",
        "train_data = train_data / std\n",
        "\n",
        "# 테스트 데이터셋도 마찬가지로 평균을 빼고, 표준편차로 나눕니다\n",
        "test_data = test_data - mean\n",
        "test_data = test_data / std\n",
        "\n",
        "x_train[:5]"
      ]
    },
    {
      "cell_type": "markdown",
      "id": "f3e82b63",
      "metadata": {
        "id": "f3e82b63"
      },
      "source": [
        "**모델 구성 및 컴파일**"
      ]
    },
    {
      "cell_type": "code",
      "execution_count": null,
      "id": "5e280d07",
      "metadata": {
        "id": "5e280d07",
        "outputId": "6f703815-8df5-44ee-b290-636c0e98b97d"
      },
      "outputs": [
        {
          "name": "stdout",
          "output_type": "stream",
          "text": [
            "Model: \"sequential\"\n",
            "_________________________________________________________________\n",
            "Layer (type)                 Output Shape              Param #   \n",
            "=================================================================\n",
            "dense (Dense)                (None, 64)                896       \n",
            "_________________________________________________________________\n",
            "dense_1 (Dense)              (None, 32)                2080      \n",
            "_________________________________________________________________\n",
            "dense_2 (Dense)              (None, 1)                 33        \n",
            "=================================================================\n",
            "Total params: 3,009\n",
            "Trainable params: 3,009\n",
            "Non-trainable params: 0\n",
            "_________________________________________________________________\n"
          ]
        }
      ],
      "source": [
        "# 문제 1-2: boston_housing 데이터셋을 활용하여 주택 가격 예측을 위한 딥러닝 모델 구성 및 컴파일합니다.\n",
        "from tensorflow.keras import models, layers\n",
        "\n",
        "# input_shape은 (train_data.shape[1], )으로 구성합니다.\n",
        "model = models.Sequential()\n",
        "model.add(layers.Dense(64, input_shape=(train_data.shape[1], ), activation='relu'))\n",
        "# model.add(layers.BatchNormalization())\n",
        "model.add(layers.Dense(32, activation='relu'))\n",
        "model.add(layers.Dense(1))\n",
        "\n",
        "# 회귀(예측)을 위한 모델이므로 loss를 mse, metrics를 mae로 사용합니다.\n",
        "model.compile(optimizer='adam',\n",
        "              loss='mse',\n",
        "              metrics=['mae'])\n",
        "\n",
        "# model.save('boston_housing_model_init')\n",
        "model.summary()"
      ]
    },
    {
      "cell_type": "code",
      "execution_count": null,
      "id": "e237c68f",
      "metadata": {
        "id": "e237c68f",
        "outputId": "863bd44a-8548-414b-d6c0-1997d0dee829"
      },
      "outputs": [
        {
          "data": {
            "image/png": "[encoded data removed]",
            "text/plain": [
              "<IPython.core.display.Image object>"
            ]
          },
          "execution_count": 5,
          "metadata": {},
          "output_type": "execute_result"
        }
      ],
      "source": [
        "from tensorflow.keras import utils\n",
        "\n",
        "utils.plot_model(model, show_shapes=True)"
      ]
    },
    {
      "cell_type": "markdown",
      "id": "ccb931ef",
      "metadata": {
        "id": "ccb931ef"
      },
      "source": [
        "**모델 학습**"
      ]
    },
    {
      "cell_type": "code",
      "execution_count": null,
      "id": "a4dfbc71",
      "metadata": {
        "id": "a4dfbc71",
        "outputId": "ce085a7c-5a76-41ec-a564-fa335af93cb9"
      },
      "outputs": [
        {
          "name": "stdout",
          "output_type": "stream",
          "text": [
            "Epoch 1/50\n",
            "9/9 [==============================] - 1s 21ms/step - loss: 1049.8468 - mae: 26.1291 - val_loss: 630.6597 - val_mae: 21.6343\n",
            "Epoch 2/50\n",
            "9/9 [==============================] - 0s 5ms/step - loss: 330.6444 - mae: 14.0686 - val_loss: 106.3575 - val_mae: 8.9487\n",
            "Epoch 3/50\n",
            "9/9 [==============================] - 0s 5ms/step - loss: 164.6609 - mae: 11.6536 - val_loss: 81.9353 - val_mae: 7.2457\n",
            "Epoch 4/50\n",
            "9/9 [==============================] - 0s 5ms/step - loss: 87.8761 - mae: 6.5845 - val_loss: 104.5722 - val_mae: 6.6396\n",
            "Epoch 5/50\n",
            "9/9 [==============================] - 0s 5ms/step - loss: 77.5638 - mae: 6.4177 - val_loss: 77.9737 - val_mae: 7.1898\n",
            "Epoch 6/50\n",
            "9/9 [==============================] - 0s 5ms/step - loss: 64.2340 - mae: 6.0522 - val_loss: 78.1878 - val_mae: 5.6848\n",
            "Epoch 7/50\n",
            "9/9 [==============================] - 0s 5ms/step - loss: 64.4115 - mae: 5.4459 - val_loss: 67.3334 - val_mae: 6.1425\n",
            "Epoch 8/50\n",
            "9/9 [==============================] - 0s 5ms/step - loss: 60.0146 - mae: 5.6482 - val_loss: 65.8764 - val_mae: 5.5287\n",
            "Epoch 9/50\n",
            "9/9 [==============================] - 0s 5ms/step - loss: 57.2925 - mae: 5.4173 - val_loss: 64.0363 - val_mae: 5.5816\n",
            "Epoch 10/50\n",
            "9/9 [==============================] - 0s 5ms/step - loss: 56.2345 - mae: 5.2537 - val_loss: 63.6510 - val_mae: 5.3283\n",
            "Epoch 11/50\n",
            "9/9 [==============================] - 0s 5ms/step - loss: 54.4964 - mae: 5.2643 - val_loss: 60.9491 - val_mae: 5.6875\n",
            "Epoch 12/50\n",
            "9/9 [==============================] - 0s 5ms/step - loss: 53.8008 - mae: 5.2232 - val_loss: 59.7300 - val_mae: 5.3787\n",
            "Epoch 13/50\n",
            "9/9 [==============================] - 0s 5ms/step - loss: 52.0533 - mae: 5.0498 - val_loss: 58.0043 - val_mae: 5.2873\n",
            "Epoch 14/50\n",
            "9/9 [==============================] - 0s 5ms/step - loss: 51.3644 - mae: 4.8997 - val_loss: 56.3382 - val_mae: 5.4184\n",
            "Epoch 15/50\n",
            "9/9 [==============================] - 0s 5ms/step - loss: 50.8065 - mae: 5.0586 - val_loss: 55.6865 - val_mae: 5.1903\n",
            "Epoch 16/50\n",
            "9/9 [==============================] - 0s 5ms/step - loss: 49.3982 - mae: 5.0336 - val_loss: 54.7621 - val_mae: 5.0966\n",
            "Epoch 17/50\n",
            "9/9 [==============================] - 0s 5ms/step - loss: 49.0721 - mae: 4.8703 - val_loss: 53.6165 - val_mae: 5.1593\n",
            "Epoch 18/50\n",
            "9/9 [==============================] - 0s 5ms/step - loss: 48.4364 - mae: 4.6572 - val_loss: 52.2316 - val_mae: 5.2193\n",
            "Epoch 19/50\n",
            "9/9 [==============================] - 0s 5ms/step - loss: 49.8750 - mae: 5.2177 - val_loss: 58.9334 - val_mae: 4.8882\n",
            "Epoch 20/50\n",
            "9/9 [==============================] - 0s 5ms/step - loss: 50.7703 - mae: 4.9418 - val_loss: 51.1342 - val_mae: 5.0630\n",
            "Epoch 21/50\n",
            "9/9 [==============================] - 0s 5ms/step - loss: 45.7207 - mae: 4.6453 - val_loss: 50.1270 - val_mae: 4.9962\n",
            "Epoch 22/50\n",
            "9/9 [==============================] - 0s 5ms/step - loss: 45.4611 - mae: 4.8576 - val_loss: 51.2722 - val_mae: 4.8172\n",
            "Epoch 23/50\n",
            "9/9 [==============================] - 0s 5ms/step - loss: 46.4592 - mae: 4.5561 - val_loss: 52.3534 - val_mae: 5.7247\n",
            "Epoch 24/50\n",
            "9/9 [==============================] - 0s 5ms/step - loss: 45.2006 - mae: 4.8680 - val_loss: 51.0425 - val_mae: 4.7602\n",
            "Epoch 25/50\n",
            "9/9 [==============================] - 0s 5ms/step - loss: 43.9033 - mae: 4.5641 - val_loss: 51.1727 - val_mae: 5.6629\n",
            "Epoch 26/50\n",
            "9/9 [==============================] - 0s 5ms/step - loss: 44.1413 - mae: 4.8270 - val_loss: 52.3439 - val_mae: 4.6939\n",
            "Epoch 27/50\n",
            "9/9 [==============================] - 0s 5ms/step - loss: 43.7104 - mae: 4.7835 - val_loss: 47.1848 - val_mae: 4.9269\n",
            "Epoch 28/50\n",
            "9/9 [==============================] - 0s 5ms/step - loss: 42.1345 - mae: 4.4554 - val_loss: 47.1684 - val_mae: 4.9631\n",
            "Epoch 29/50\n",
            "9/9 [==============================] - 0s 5ms/step - loss: 41.9871 - mae: 4.5182 - val_loss: 46.0081 - val_mae: 4.8433\n",
            "Epoch 30/50\n",
            "9/9 [==============================] - 0s 5ms/step - loss: 41.1946 - mae: 4.5660 - val_loss: 46.2189 - val_mae: 4.7303\n",
            "Epoch 31/50\n",
            "9/9 [==============================] - 0s 5ms/step - loss: 41.5228 - mae: 4.4757 - val_loss: 45.1923 - val_mae: 5.0139\n",
            "Epoch 32/50\n",
            "9/9 [==============================] - 0s 5ms/step - loss: 40.2207 - mae: 4.4428 - val_loss: 45.2589 - val_mae: 4.7939\n",
            "Epoch 33/50\n",
            "9/9 [==============================] - 0s 5ms/step - loss: 40.3599 - mae: 4.4245 - val_loss: 44.5809 - val_mae: 4.8387\n",
            "Epoch 34/50\n",
            "9/9 [==============================] - 0s 5ms/step - loss: 39.3604 - mae: 4.3635 - val_loss: 44.6714 - val_mae: 4.6928\n",
            "Epoch 35/50\n",
            "9/9 [==============================] - 0s 5ms/step - loss: 39.9283 - mae: 4.4963 - val_loss: 45.1485 - val_mae: 4.6747\n",
            "Epoch 36/50\n",
            "9/9 [==============================] - 0s 5ms/step - loss: 39.8025 - mae: 4.3225 - val_loss: 43.1263 - val_mae: 4.8507\n",
            "Epoch 37/50\n",
            "9/9 [==============================] - 0s 5ms/step - loss: 38.6627 - mae: 4.3674 - val_loss: 42.9483 - val_mae: 4.7731\n",
            "Epoch 38/50\n",
            "9/9 [==============================] - 0s 5ms/step - loss: 38.3414 - mae: 4.3853 - val_loss: 42.9600 - val_mae: 4.7784\n",
            "Epoch 39/50\n",
            "9/9 [==============================] - 0s 5ms/step - loss: 38.3216 - mae: 4.3328 - val_loss: 42.3914 - val_mae: 4.9043\n",
            "Epoch 40/50\n",
            "9/9 [==============================] - 0s 5ms/step - loss: 37.9230 - mae: 4.3286 - val_loss: 42.5119 - val_mae: 4.7799\n",
            "Epoch 41/50\n",
            "9/9 [==============================] - 0s 5ms/step - loss: 37.3303 - mae: 4.3574 - val_loss: 42.2758 - val_mae: 4.7190\n",
            "Epoch 42/50\n",
            "9/9 [==============================] - 0s 5ms/step - loss: 38.0569 - mae: 4.3654 - val_loss: 41.6809 - val_mae: 4.8771\n",
            "Epoch 43/50\n",
            "9/9 [==============================] - 0s 5ms/step - loss: 37.0679 - mae: 4.3055 - val_loss: 43.7380 - val_mae: 5.2144\n",
            "Epoch 44/50\n",
            "9/9 [==============================] - 0s 5ms/step - loss: 37.6389 - mae: 4.5257 - val_loss: 42.7968 - val_mae: 4.6543\n",
            "Epoch 45/50\n",
            "9/9 [==============================] - 0s 6ms/step - loss: 37.2791 - mae: 4.3586 - val_loss: 42.0821 - val_mae: 4.6530\n",
            "Epoch 46/50\n",
            "9/9 [==============================] - 0s 5ms/step - loss: 36.5091 - mae: 4.2006 - val_loss: 41.1159 - val_mae: 4.9622\n",
            "Epoch 47/50\n",
            "9/9 [==============================] - 0s 5ms/step - loss: 36.4567 - mae: 4.1956 - val_loss: 41.1981 - val_mae: 4.9886\n",
            "Epoch 48/50\n",
            "9/9 [==============================] - 0s 5ms/step - loss: 36.4941 - mae: 4.3109 - val_loss: 40.4131 - val_mae: 4.8629\n",
            "Epoch 49/50\n",
            "9/9 [==============================] - 0s 5ms/step - loss: 36.2701 - mae: 4.2920 - val_loss: 40.7670 - val_mae: 4.7114\n",
            "Epoch 50/50\n",
            "9/9 [==============================] - 0s 5ms/step - loss: 35.2628 - mae: 4.2293 - val_loss: 40.1286 - val_mae: 4.7430\n"
          ]
        }
      ],
      "source": [
        "# 문제 1-3: 예측을 위한 딥러닝 모델을 학습합니다.\n",
        "from tensorflow.keras import callbacks\n",
        "\n",
        "# check_point_cb = callbacks.ModelCheckpoint('boston_housing_model_init',\n",
        "#                                            save_best_only=True)\n",
        "\n",
        "# early_stopping_cb = callbacks.EarlyStopping(patience=10,\n",
        "#                                             monitor='val_loss',\n",
        "#                                             restore_best_weights=True)\n",
        "\n",
        "history = model.fit(x_train, y_train,\n",
        "                    epochs=50,\n",
        "                    batch_size=32,\n",
        "                    validation_data=(x_val, y_val))"
      ]
    },
    {
      "cell_type": "code",
      "execution_count": null,
      "id": "6d2aaa4c",
      "metadata": {
        "id": "6d2aaa4c",
        "outputId": "7e59f26b-9aa7-48dc-c132-79d76fb7fce8"
      },
      "outputs": [
        {
          "data": {
            "image/png": "[encoded data removed]",
            "text/plain": [
              "<Figure size 864x360 with 2 Axes>"
            ]
          },
          "metadata": {},
          "output_type": "display_data"
        }
      ],
      "source": [
        "# 모델 학습 히스토리에서 loss, val_loss, mae, val_mae를 차트로 보여줍니다.\n",
        "\n",
        "plt.style.use('seaborn-white')\n",
        "\n",
        "history_dict = history.history\n",
        "\n",
        "loss = history_dict['loss']\n",
        "val_loss = history_dict['val_loss']\n",
        "\n",
        "epochs = range(1, len(loss) + 1)\n",
        "fig = plt.figure(figsize=(12, 5))\n",
        "\n",
        "ax1 = fig.add_subplot(1, 2, 1)\n",
        "ax1.plot(epochs, loss, 'b-', label='train_loss')\n",
        "ax1.plot(epochs, val_loss, 'r-', label='val_loss')\n",
        "ax1.set_title('Train and Validation Loss')\n",
        "ax1.set_xlabel('Epochs')\n",
        "ax1.set_ylabel('Loss')\n",
        "ax1.grid()\n",
        "ax1.legend()\n",
        "\n",
        "mae = history_dict['mae']\n",
        "val_mae = history_dict['val_mae']\n",
        "\n",
        "ax2 = fig.add_subplot(1, 2, 2)\n",
        "ax2.plot(epochs, mae, 'b-', label='train_mae')\n",
        "ax2.plot(epochs, val_mae, 'r-', label='val_mae')\n",
        "ax2.set_title('Train and Validation MAE')\n",
        "ax2.set_xlabel('Epochs')\n",
        "ax2.set_ylabel('Accuracy')\n",
        "ax2.grid()\n",
        "ax2.legend()\n",
        "\n",
        "plt.show()"
      ]
    },
    {
      "cell_type": "markdown",
      "id": "f97ea20c",
      "metadata": {
        "id": "f97ea20c"
      },
      "source": [
        "**모델 평가 및 예측**"
      ]
    },
    {
      "cell_type": "code",
      "execution_count": null,
      "id": "1c1954ab",
      "metadata": {
        "id": "1c1954ab",
        "outputId": "57bf41dc-9555-41e2-ff8c-23d530f41592"
      },
      "outputs": [
        {
          "name": "stdout",
          "output_type": "stream",
          "text": [
            "4/4 [==============================] - 0s 2ms/step - loss: 609.8444 - mae: 23.0317\n",
            "[609.8443603515625, 23.03170394897461]\n"
          ]
        }
      ],
      "source": [
        "# 문제 1-4: 테스트 데이터셋을 이용해 모델을 평가합니다.\n",
        "\n",
        "print(model.evaluate(test_data, test_labels))"
      ]
    },
    {
      "cell_type": "code",
      "execution_count": null,
      "id": "759f0e73",
      "metadata": {
        "id": "759f0e73",
        "outputId": "f87c10a3-c02f-4e97-9c9c-7683e22e2fd0"
      },
      "outputs": [
        {
          "data": {
            "image/png": "[encoded data removed]",
            "text/plain": [
              "<Figure size 432x288 with 1 Axes>"
            ]
          },
          "metadata": {},
          "output_type": "display_data"
        }
      ],
      "source": [
        "import matplotlib.pyplot as plt\n",
        "\n",
        "pred = model.predict(test_data).reshape(-1)\n",
        "\n",
        "plt.figure()\n",
        "plt.scatter(pred, test_labels, color = \"blue\", marker = \"o\", label = \"label\")\n",
        "plt.show()"
      ]
    }
  ],
  "metadata": {
    "kernelspec": {
      "display_name": "Python 3 (ipykernel)",
      "language": "python",
      "name": "python3"
    },
    "language_info": {
      "codemirror_mode": {
        "name": "ipython",
        "version": 3
      },
      "file_extension": ".py",
      "mimetype": "text/x-python",
      "name": "python",
      "nbconvert_exporter": "python",
      "pygments_lexer": "ipython3",
      "version": "3.9.7"
    },
    "colab": {
      "provenance": [],
      "include_colab_link": true
    }
  },
  "nbformat": 4,
  "nbformat_minor": 5
}